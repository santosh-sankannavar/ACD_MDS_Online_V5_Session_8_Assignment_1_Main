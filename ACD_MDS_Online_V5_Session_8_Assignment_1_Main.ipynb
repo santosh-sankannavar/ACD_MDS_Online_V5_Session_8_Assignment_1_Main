{
 "cells": [
  {
   "cell_type": "code",
   "execution_count": 1,
   "metadata": {},
   "outputs": [
    {
     "data": {
      "text/html": [
       "<div>\n",
       "<style scoped>\n",
       "    .dataframe tbody tr th:only-of-type {\n",
       "        vertical-align: middle;\n",
       "    }\n",
       "\n",
       "    .dataframe tbody tr th {\n",
       "        vertical-align: top;\n",
       "    }\n",
       "\n",
       "    .dataframe thead th {\n",
       "        text-align: right;\n",
       "    }\n",
       "</style>\n",
       "<table border=\"1\" class=\"dataframe\">\n",
       "  <thead>\n",
       "    <tr style=\"text-align: right;\">\n",
       "      <th></th>\n",
       "      <th>X</th>\n",
       "      <th>Y</th>\n",
       "    </tr>\n",
       "  </thead>\n",
       "  <tbody>\n",
       "    <tr>\n",
       "      <th>0</th>\n",
       "      <td>7</td>\n",
       "      <td>1</td>\n",
       "    </tr>\n",
       "    <tr>\n",
       "      <th>1</th>\n",
       "      <td>2</td>\n",
       "      <td>2</td>\n",
       "    </tr>\n",
       "    <tr>\n",
       "      <th>2</th>\n",
       "      <td>0</td>\n",
       "      <td>0</td>\n",
       "    </tr>\n",
       "    <tr>\n",
       "      <th>3</th>\n",
       "      <td>3</td>\n",
       "      <td>1</td>\n",
       "    </tr>\n",
       "    <tr>\n",
       "      <th>4</th>\n",
       "      <td>4</td>\n",
       "      <td>2</td>\n",
       "    </tr>\n",
       "    <tr>\n",
       "      <th>5</th>\n",
       "      <td>2</td>\n",
       "      <td>3</td>\n",
       "    </tr>\n",
       "    <tr>\n",
       "      <th>6</th>\n",
       "      <td>5</td>\n",
       "      <td>4</td>\n",
       "    </tr>\n",
       "    <tr>\n",
       "      <th>7</th>\n",
       "      <td>0</td>\n",
       "      <td>0</td>\n",
       "    </tr>\n",
       "    <tr>\n",
       "      <th>8</th>\n",
       "      <td>3</td>\n",
       "      <td>1</td>\n",
       "    </tr>\n",
       "    <tr>\n",
       "      <th>9</th>\n",
       "      <td>4</td>\n",
       "      <td>2</td>\n",
       "    </tr>\n",
       "  </tbody>\n",
       "</table>\n",
       "</div>"
      ],
      "text/plain": [
       "   X  Y\n",
       "0  7  1\n",
       "1  2  2\n",
       "2  0  0\n",
       "3  3  1\n",
       "4  4  2\n",
       "5  2  3\n",
       "6  5  4\n",
       "7  0  0\n",
       "8  3  1\n",
       "9  4  2"
      ]
     },
     "execution_count": 1,
     "metadata": {},
     "output_type": "execute_result"
    }
   ],
   "source": [
    "#How-to-count-distance-to-the-previous-zero\n",
    "import numpy as np\n",
    "import pandas as pd\n",
    "df = pd.DataFrame({'X': [7, 2, 0, 3, 4, 2, 5, 0, 3, 4]})\n",
    "izero = np.r_[-1, (df['X'] == 0).nonzero()[0]] # indices of zeros\n",
    "idx = np.arange(len(df))\n",
    "df['Y'] = idx - izero[np.searchsorted(izero - 1, idx) - 1]\n",
    "df\n"
   ]
  },
  {
   "cell_type": "code",
   "execution_count": 2,
   "metadata": {},
   "outputs": [
    {
     "data": {
      "text/plain": [
       "2015-01-01    0.116172\n",
       "2015-01-02    0.571880\n",
       "2015-01-05    0.768364\n",
       "2015-01-06    0.563939\n",
       "2015-01-07    0.480119\n",
       "2015-01-08    0.365442\n",
       "2015-01-09    0.307395\n",
       "2015-01-12    0.070007\n",
       "2015-01-13    0.493038\n",
       "2015-01-14    0.049012\n",
       "2015-01-15    0.710144\n",
       "2015-01-16    0.358836\n",
       "2015-01-19    0.486831\n",
       "2015-01-20    0.235019\n",
       "2015-01-21    0.518924\n",
       "2015-01-22    0.388526\n",
       "2015-01-23    0.311136\n",
       "2015-01-26    0.075212\n",
       "2015-01-27    0.819775\n",
       "2015-01-28    0.914105\n",
       "2015-01-29    0.719189\n",
       "2015-01-30    0.895179\n",
       "2015-02-02    0.857479\n",
       "2015-02-03    0.089349\n",
       "2015-02-04    0.681281\n",
       "2015-02-05    0.513467\n",
       "2015-02-06    0.424120\n",
       "2015-02-09    0.783802\n",
       "2015-02-10    0.182968\n",
       "2015-02-11    0.283898\n",
       "                ...   \n",
       "2015-11-20    0.254688\n",
       "2015-11-23    0.639041\n",
       "2015-11-24    0.318905\n",
       "2015-11-25    0.829388\n",
       "2015-11-26    0.637061\n",
       "2015-11-27    0.436485\n",
       "2015-11-30    0.238208\n",
       "2015-12-01    0.098202\n",
       "2015-12-02    0.175376\n",
       "2015-12-03    0.870429\n",
       "2015-12-04    0.012842\n",
       "2015-12-07    0.511820\n",
       "2015-12-08    0.444032\n",
       "2015-12-09    0.631438\n",
       "2015-12-10    0.127555\n",
       "2015-12-11    0.853910\n",
       "2015-12-14    0.394929\n",
       "2015-12-15    0.932417\n",
       "2015-12-16    0.359839\n",
       "2015-12-17    0.813008\n",
       "2015-12-18    0.122619\n",
       "2015-12-21    0.633859\n",
       "2015-12-22    0.546690\n",
       "2015-12-23    0.373890\n",
       "2015-12-24    0.420147\n",
       "2015-12-25    0.141275\n",
       "2015-12-28    0.460467\n",
       "2015-12-29    0.719146\n",
       "2015-12-30    0.088769\n",
       "2015-12-31    0.309012\n",
       "Freq: B, Length: 261, dtype: float64"
      ]
     },
     "execution_count": 2,
     "metadata": {},
     "output_type": "execute_result"
    }
   ],
   "source": [
    "#Create a DatetimeIndex that contains each business day of 2015 and use it to index a Series of random numbers.\n",
    "dti = pd.date_range(start='2015-01-01', end='2015-12-31', freq='B') \n",
    "s = pd.Series(np.random.rand(len(dti)), index=dti)\n",
    "s"
   ]
  },
  {
   "cell_type": "code",
   "execution_count": 3,
   "metadata": {},
   "outputs": [
    {
     "data": {
      "text/plain": [
       "27.54868879077261"
      ]
     },
     "execution_count": 3,
     "metadata": {},
     "output_type": "execute_result"
    }
   ],
   "source": [
    "#Find the sum of the values in s for every Wednesday\n",
    "s[dti.weekday == 2].sum() "
   ]
  },
  {
   "cell_type": "code",
   "execution_count": 4,
   "metadata": {},
   "outputs": [
    {
     "name": "stderr",
     "output_type": "stream",
     "text": [
      "C:\\ProgramData\\Anaconda3\\lib\\site-packages\\ipykernel_launcher.py:2: FutureWarning: how in .resample() is deprecated\n",
      "the new syntax is .resample(...).mean()\n",
      "  \n"
     ]
    },
    {
     "data": {
      "text/plain": [
       "2015-01-31    0.464466\n",
       "2015-02-28    0.532375\n",
       "2015-03-31    0.532225\n",
       "2015-04-30    0.547691\n",
       "2015-05-31    0.556401\n",
       "2015-06-30    0.583191\n",
       "2015-07-31    0.504906\n",
       "2015-08-31    0.427270\n",
       "2015-09-30    0.410523\n",
       "2015-10-31    0.521671\n",
       "2015-11-30    0.478254\n",
       "2015-12-31    0.436594\n",
       "Freq: M, dtype: float64"
      ]
     },
     "execution_count": 4,
     "metadata": {},
     "output_type": "execute_result"
    }
   ],
   "source": [
    "#Average For each calendar month\n",
    "s.resample('M', how='mean')\n"
   ]
  },
  {
   "cell_type": "code",
   "execution_count": 5,
   "metadata": {},
   "outputs": [
    {
     "name": "stderr",
     "output_type": "stream",
     "text": [
      "C:\\ProgramData\\Anaconda3\\lib\\site-packages\\ipykernel_launcher.py:2: FutureWarning: pd.TimeGrouper is deprecated and will be removed; Please use pd.Grouper(freq=...)\n",
      "  \n"
     ]
    },
    {
     "data": {
      "text/plain": [
       "2015-01-31   2015-01-28\n",
       "2015-05-31   2015-02-13\n",
       "2015-09-30   2015-07-23\n",
       "2016-01-31   2015-10-07\n",
       "dtype: datetime64[ns]"
      ]
     },
     "execution_count": 5,
     "metadata": {},
     "output_type": "execute_result"
    }
   ],
   "source": [
    "#For each group of four consecutive calendar months in s, find the date on which the highest value occurred.\n",
    "s.groupby(pd.TimeGrouper('4M')).idxmax()"
   ]
  },
  {
   "cell_type": "code",
   "execution_count": null,
   "metadata": {},
   "outputs": [],
   "source": []
  }
 ],
 "metadata": {
  "kernelspec": {
   "display_name": "Python 3",
   "language": "python",
   "name": "python3"
  },
  "language_info": {
   "codemirror_mode": {
    "name": "ipython",
    "version": 3
   },
   "file_extension": ".py",
   "mimetype": "text/x-python",
   "name": "python",
   "nbconvert_exporter": "python",
   "pygments_lexer": "ipython3",
   "version": "3.7.0"
  }
 },
 "nbformat": 4,
 "nbformat_minor": 2
}
